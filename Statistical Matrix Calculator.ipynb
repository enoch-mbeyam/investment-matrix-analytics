{
 "cells": [
  {
   "cell_type": "markdown",
   "metadata": {},
   "source": [
    "## Scenario: \n",
    "* A data analyst at a financial institution needs to calculate various statistical metrics for a portfolio of assets. The assets are divided into three categories: stocks, bonds, and real estate. The analyst wants to calculate the mean, variance, standard deviation, maximum, minimum, and sum of each category, as well as the overall portfolio.\n",
    "### Problem Statement: \n",
    "* Write a Python program to calculate and display the statistical metrics for a portfolio of assets, including the mean, variance, standard deviation, maximum, minimum, and sum of each category, as well as the overall portfolio.\n",
    "### Input: \n",
    "* A 3x3 matrix of numerical values representing the asset values in each category.\n",
    "### Output: \n",
    "* A dictionary containing the calculated statistical metrics for each category and the overall portfolio."
   ]
  },
  {
   "cell_type": "code",
   "execution_count": null,
   "metadata": {},
   "outputs": [],
   "source": []
  },
  {
   "cell_type": "code",
   "execution_count": 1,
   "metadata": {},
   "outputs": [],
   "source": [
    "# Import the NumPy library, which provides support for large, multi-dimensional arrays and matrices, along with a large collection of high-level mathematical functions to operate on these arrays.\n",
    "import numpy as np"
   ]
  },
  {
   "cell_type": "code",
   "execution_count": 2,
   "metadata": {},
   "outputs": [
    {
     "name": "stdout",
     "output_type": "stream",
     "text": [
      "{'mean': [[1.0, 4.0, 7.0], [3.0, 4.0, 5.0], 4.0], 'variance': [[0.6666666666666666, 0.6666666666666666, 0.6666666666666666], [6.0, 6.0, 6.0], 6.666666666666667], 'standard deviation': [[0.816496580927726, 0.816496580927726, 0.816496580927726], [2.449489742783178, 2.449489742783178, 2.449489742783178], 2.581988897471611], 'max': [[2, 5, 8], [6, 7, 8], 8], 'min': [[0, 3, 6], [0, 1, 2], 0], 'sum': [[3, 12, 21], [9, 12, 15], 36]}\n"
     ]
    }
   ],
   "source": [
    "\n",
    "\n",
    "# Define a class named 'mean_var_std' that will contain a static method for calculating various statistical metrics.\n",
    "class mean_var_std:\n",
    "    # Define a static method named 'calculate' that takes a list of numbers as input.\n",
    "    @staticmethod\n",
    "    def calculate(lst):\n",
    "        # Initialize an empty dictionary to store the calculation results.\n",
    "        calculations = {}\n",
    "\n",
    "        # Check if the input list contains exactly 9 numbers. If not, raise a ValueError.\n",
    "        if len(lst) != 9:\n",
    "            raise ValueError(\"List must contain nine numbers.\")\n",
    "\n",
    "        # Convert the input list into a 3x3 NumPy array using the reshape method.\n",
    "        arr = np.array(lst).reshape(3, 3)\n",
    "\n",
    "        # Calculate the mean of each row, column, and the entire array, and store the results in the 'calculations' dictionary.\n",
    "        row_means = arr.mean(axis=1).tolist()\n",
    "        col_means = arr.mean(axis=0).tolist()\n",
    "        overall_mean = arr.flatten().mean()\n",
    "        calculations['mean'] = [row_means, col_means, overall_mean]\n",
    "\n",
    "        # Calculate the variance of each row, column, and the entire array, and store the results in the 'calculations' dictionary.\n",
    "        row_variances = arr.var(axis=1).tolist()\n",
    "        col_variances = arr.var(axis=0).tolist()\n",
    "        overall_variance = arr.flatten().var()\n",
    "        calculations['variance'] = [row_variances, col_variances, overall_variance]\n",
    "\n",
    "        # Calculate the standard deviation of each row, column, and the entire array, and store the results in the 'calculations' dictionary.\n",
    "        row_stdevs = arr.std(axis=1).tolist()\n",
    "        col_stdevs = arr.std(axis=0).tolist()\n",
    "        overall_stdev = arr.flatten().std()\n",
    "        calculations['standard deviation'] = [row_stdevs, col_stdevs, overall_stdev]\n",
    "\n",
    "        # Calculate the maximum value of each row, column, and the entire array, and store the results in the 'calculations' dictionary.\n",
    "        row_maxes = arr.max(axis=1).tolist()\n",
    "        col_maxes = arr.max(axis=0).tolist()\n",
    "        overall_max = arr.flatten().max()\n",
    "        calculations['max'] = [row_maxes, col_maxes, overall_max]\n",
    "\n",
    "        # Calculate the minimum value of each row, column, and the entire array, and store the results in the 'calculations' dictionary.\n",
    "        row_mins = arr.min(axis=1).tolist()\n",
    "        col_mins = arr.min(axis=0).tolist()\n",
    "        overall_min = arr.flatten().min()\n",
    "        calculations['min'] = [row_mins, col_mins, overall_min]\n",
    "\n",
    "        # Calculate the sum of each row, column, and the entire array, and store the results in the 'calculations' dictionary.\n",
    "        row_sums = arr.sum(axis=1).tolist()\n",
    "        col_sums = arr.sum(axis=0).tolist()\n",
    "        overall_sum = arr.flatten().sum()\n",
    "        calculations['sum'] = [row_sums, col_sums, overall_sum]\n",
    "\n",
    "        # Return the 'calculations' dictionary containing all the statistical metrics.\n",
    "        return calculations\n",
    "\n",
    "# Test the 'calculate' method with a sample list of numbers.\n",
    "print(mean_var_std.calculate([0,1,2,3,4,5,6,7,8]))"
   ]
  },
  {
   "cell_type": "code",
   "execution_count": null,
   "metadata": {},
   "outputs": [],
   "source": []
  },
  {
   "cell_type": "markdown",
   "metadata": {},
   "source": [
    "## For intuitive presentation"
   ]
  },
  {
   "cell_type": "code",
   "execution_count": 12,
   "metadata": {},
   "outputs": [
    {
     "name": "stdout",
     "output_type": "stream",
     "text": [
      "Metric              Stocks                                                        Bonds                                                        Real Estate\n",
      "------------------  ------------------------------------------------------------  ---------------------------------------------------------  -------------\n",
      "mean                [1.0, 4.0, 7.0]                                               [3.0, 4.0, 5.0]                                                  4\n",
      "variance            [0.6666666666666666, 0.6666666666666666, 0.6666666666666666]  [6.0, 6.0, 6.0]                                                  6.66667\n",
      "standard deviation  [0.816496580927726, 0.816496580927726, 0.816496580927726]     [2.449489742783178, 2.449489742783178, 2.449489742783178]        2.58199\n",
      "max                 [2, 5, 8]                                                     [6, 7, 8]                                                        8\n",
      "min                 [0, 3, 6]                                                     [0, 1, 2]                                                        0\n",
      "sum                 [3, 12, 21]                                                   [9, 12, 15]                                                     36\n"
     ]
    }
   ],
   "source": [
    "# Import the tabulate module, which is used for generating simple tables\n",
    "from tabulate import tabulate\n",
    "\n",
    "output = mean_var_std.calculate([0,1,2,3,4,5,6,7,8])\n",
    "\n",
    "# Initialize an empty list to store the data for the table\n",
    "table = []\n",
    "\n",
    "# Loop through the output dictionary, which contains the metrics and their values\n",
    "for metric, values in output.items():\n",
    "\t# Append a new list to the table list, containing the metric name and its values\n",
    "\ttable.append([metric] + values)\n",
    "\n",
    "# Generate the table using the tabulate function, with the specified headers\n",
    "print(tabulate(table, headers=['Metric', 'Stocks', 'Bonds', 'Real Estate', 'Overall']))"
   ]
  },
  {
   "cell_type": "code",
   "execution_count": null,
   "metadata": {},
   "outputs": [],
   "source": []
  }
 ],
 "metadata": {
  "kernelspec": {
   "display_name": "Python 3 (ipykernel)",
   "language": "python",
   "name": "python3"
  },
  "language_info": {
   "codemirror_mode": {
    "name": "ipython",
    "version": 3
   },
   "file_extension": ".py",
   "mimetype": "text/x-python",
   "name": "python",
   "nbconvert_exporter": "python",
   "pygments_lexer": "ipython3",
   "version": "3.11.5"
  }
 },
 "nbformat": 4,
 "nbformat_minor": 2
}
